{
 "cells": [
  {
   "cell_type": "code",
   "execution_count": 1,
   "metadata": {},
   "outputs": [
    {
     "name": "stdout",
     "output_type": "stream",
     "text": [
      "   track_popularity playlist_genre playlist_subgenre  danceability  energy  \\\n",
      "0                66            pop         dance pop         0.748   0.916   \n",
      "1                67            pop         dance pop         0.726   0.815   \n",
      "2                70            pop         dance pop         0.675   0.931   \n",
      "3                60            pop         dance pop         0.718   0.930   \n",
      "4                69            pop         dance pop         0.650   0.833   \n",
      "\n",
      "   key  loudness  mode  speechiness  acousticness  instrumentalness  liveness  \\\n",
      "0    6    -2.634     1       0.0583        0.1020          0.000000    0.0653   \n",
      "1   11    -4.969     1       0.0373        0.0724          0.004210    0.3570   \n",
      "2    1    -3.432     0       0.0742        0.0794          0.000023    0.1100   \n",
      "3    7    -3.778     1       0.1020        0.0287          0.000009    0.2040   \n",
      "4    1    -4.672     1       0.0359        0.0803          0.000000    0.0833   \n",
      "\n",
      "   valence    tempo  duration_ms  release_year  \n",
      "0    0.518  122.036       194754          2019  \n",
      "1    0.693   99.972       162600          2019  \n",
      "2    0.613  124.008       176616          2019  \n",
      "3    0.277  121.956       169093          2019  \n",
      "4    0.725  123.976       189052          2019  \n"
     ]
    }
   ],
   "source": [
    "import pandas as pd\n",
    "import requests\n",
    "from io import StringIO\n",
    "\n",
    "# Get the Data\n",
    "url = 'https://raw.githubusercontent.com/rfordatascience/tidytuesday/master/data/2020/2020-01-21/spotify_songs.csv'\n",
    "response = requests.get(url)\n",
    "data = StringIO(response.text)\n",
    "\n",
    "# Read the CSV file into a DataFrame\n",
    "spotify_songs = pd.read_csv(data)\n",
    "\n",
    "# Drop rows containing null values (Only 5 rows out of 30,000)\n",
    "spotify_songs = spotify_songs.dropna()\n",
    "\n",
    "# Convert 'release_date' to datetime\n",
    "spotify_songs['track_album_release_date'] = pd.to_datetime(spotify_songs['track_album_release_date'], errors='coerce')\n",
    "\n",
    "# Extract the year from 'release_date'\n",
    "spotify_songs['release_year'] = spotify_songs['track_album_release_date'].dt.year.astype('Int64')\n",
    "\n",
    "# Drop the original 'release_date' column\n",
    "spotify_songs = spotify_songs.drop(columns=['track_album_release_date'])\n",
    "\n",
    "# Drop the undesired columns. Ex:'playlist_id', 'playlist_name','track_id', 'track_name','track_album_name', and 'track_album_id' columns\n",
    "spotify_songs = spotify_songs.drop(columns=['track_artist','playlist_id', 'playlist_name','track_id', 'track_name','track_album_name','track_album_id'])\n",
    "\n",
    "# Display the first few rows of the cleaned DataFrame\n",
    "print(spotify_songs.head())"
   ]
  }
 ],
 "metadata": {
  "kernelspec": {
   "display_name": "Python 3",
   "language": "python",
   "name": "python3"
  },
  "language_info": {
   "codemirror_mode": {
    "name": "ipython",
    "version": 3
   },
   "file_extension": ".py",
   "mimetype": "text/x-python",
   "name": "python",
   "nbconvert_exporter": "python",
   "pygments_lexer": "ipython3",
   "version": "3.11.3"
  }
 },
 "nbformat": 4,
 "nbformat_minor": 2
}
